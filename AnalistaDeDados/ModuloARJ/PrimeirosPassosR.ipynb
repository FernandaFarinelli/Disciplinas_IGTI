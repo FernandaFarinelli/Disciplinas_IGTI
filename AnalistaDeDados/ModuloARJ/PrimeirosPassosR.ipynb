{
  "nbformat": 4,
  "nbformat_minor": 0,
  "metadata": {
    "colab": {
      "name": "PrimeirosPassosR.ipynb",
      "provenance": [],
      "collapsed_sections": []
    },
    "kernelspec": {
      "name": "ir",
      "display_name": "R"
    }
  },
  "cells": [
    {
      "cell_type": "markdown",
      "metadata": {
        "id": "zERjtj9dnfxL"
      },
      "source": [
        "**Comandos básicos**\n",
        "\n",
        "O uso do R como calculadora"
      ]
    },
    {
      "cell_type": "markdown",
      "metadata": {
        "id": "l3MH6Kg-nISB"
      },
      "source": [
        "FErnanda"
      ]
    },
    {
      "cell_type": "code",
      "metadata": {
        "id": "nBtHBrKonTey"
      },
      "source": [
        "2+2 #adição\n",
        "4-2 #subtração"
      ],
      "execution_count": null,
      "outputs": []
    },
    {
      "cell_type": "code",
      "metadata": {
        "id": "qPB9Y4kxoN55"
      },
      "source": [
        "2*2 # multiplicação"
      ],
      "execution_count": null,
      "outputs": []
    },
    {
      "cell_type": "code",
      "metadata": {
        "id": "7hjOtAKioSjC"
      },
      "source": [
        "4/2 # Divisão"
      ],
      "execution_count": null,
      "outputs": []
    },
    {
      "cell_type": "code",
      "metadata": {
        "id": "ucKJDT7Uoi_j"
      },
      "source": [
        "3^3 # Exponencial\n",
        "sqrt(16) # Raiz quadrada\n",
        "log(100,10) #Logarítimo de 100 na base 10"
      ],
      "execution_count": null,
      "outputs": []
    },
    {
      "cell_type": "markdown",
      "metadata": {
        "id": "r7VCdhkMpZPB"
      },
      "source": [
        "**Uso de variáveis**"
      ]
    },
    {
      "cell_type": "code",
      "metadata": {
        "id": "jt0S5QdinWoq"
      },
      "source": [
        "# Criar variavel recebendo valores\n",
        "\n",
        "x<-3+2"
      ],
      "execution_count": null,
      "outputs": []
    },
    {
      "cell_type": "code",
      "metadata": {
        "id": "0dW8ZGmLpngP"
      },
      "source": [
        "y=4"
      ],
      "execution_count": null,
      "outputs": []
    },
    {
      "cell_type": "code",
      "metadata": {
        "id": "wbZL98j6nZxq"
      },
      "source": [
        "#imprimir conteúdo da variavel\n",
        "x\n",
        "y"
      ],
      "execution_count": null,
      "outputs": []
    },
    {
      "cell_type": "code",
      "metadata": {
        "id": "T1wFKRAbpzcY"
      },
      "source": [
        "z=x+y\n",
        "z"
      ],
      "execution_count": null,
      "outputs": []
    },
    {
      "cell_type": "code",
      "metadata": {
        "id": "PQMRd54PqTKf"
      },
      "source": [
        "paste(\"X= \", x, \"Y= \", y,\"Z= \",z, sep=\" \") #concatena valores na string"
      ],
      "execution_count": null,
      "outputs": []
    },
    {
      "cell_type": "code",
      "metadata": {
        "id": "Q8o1uBHoqkCv"
      },
      "source": [
        "sprintf(\"X = %d; Y = %d; Z = %d\", x,y,z)"
      ],
      "execution_count": null,
      "outputs": []
    },
    {
      "cell_type": "code",
      "metadata": {
        "id": "urG4ppN6nbPb"
      },
      "source": [
        "#imprimir conteúdo da variavel\n",
        "print(x)"
      ],
      "execution_count": null,
      "outputs": []
    },
    {
      "cell_type": "code",
      "metadata": {
        "id": "nuwPeBGBnwTK"
      },
      "source": [
        "#Criar vetor\n",
        "\n",
        "vetor <- c(1,2,3,4,5,6)\n",
        "\n",
        "vetor"
      ],
      "execution_count": null,
      "outputs": []
    },
    {
      "cell_type": "code",
      "metadata": {
        "id": "mLNy6bplzs5e"
      },
      "source": [
        "#calculo da média\n",
        "media <- (1+2+3+4+5+6)/6\n",
        "media\n",
        "mean(vetor)"
      ],
      "execution_count": null,
      "outputs": []
    },
    {
      "cell_type": "code",
      "metadata": {
        "id": "p-Ul07monwfD"
      },
      "source": [
        "print(vetor)"
      ],
      "execution_count": null,
      "outputs": []
    },
    {
      "cell_type": "code",
      "metadata": {
        "id": "0jkBYY9jvdR6"
      },
      "source": [
        "nome <- 'linguagem R'\n",
        "nome\n",
        "toupper(nome) # todas maiusculas\n",
        "tolower(nome) # todas minusculas"
      ],
      "execution_count": null,
      "outputs": []
    },
    {
      "cell_type": "code",
      "metadata": {
        "id": "R3lNlYWdvtni"
      },
      "source": [
        "class(x)\n",
        "class(vetor)\n",
        "class(nome)"
      ],
      "execution_count": null,
      "outputs": []
    },
    {
      "cell_type": "markdown",
      "metadata": {
        "id": "Z5IYlPbcuXKF"
      },
      "source": [
        "**Constantes Armazenadas**"
      ]
    },
    {
      "cell_type": "code",
      "metadata": {
        "colab": {
          "base_uri": "https://localhost:8080/",
          "height": 34
        },
        "id": "KAP_9KfonwkX",
        "outputId": "64c7bc75-e808-489a-d346-08c4f26c4d99"
      },
      "source": [
        "pi"
      ],
      "execution_count": null,
      "outputs": [
        {
          "output_type": "display_data",
          "data": {
            "text/plain": [
              "[1] 3.141593"
            ],
            "text/latex": "3.14159265358979",
            "text/markdown": "3.14159265358979",
            "text/html": [
              "3.14159265358979"
            ]
          },
          "metadata": {
            "tags": []
          }
        }
      ]
    },
    {
      "cell_type": "code",
      "metadata": {
        "colab": {
          "base_uri": "https://localhost:8080/",
          "height": 51
        },
        "id": "b9RrEKhKukHK",
        "outputId": "d452411d-d41e-4553-ea54-8b06f9185fa3"
      },
      "source": [
        "letters\n",
        "LETTERS"
      ],
      "execution_count": null,
      "outputs": [
        {
          "output_type": "display_data",
          "data": {
            "text/plain": [
              " [1] \"a\" \"b\" \"c\" \"d\" \"e\" \"f\" \"g\" \"h\" \"i\" \"j\" \"k\" \"l\" \"m\" \"n\" \"o\" \"p\" \"q\" \"r\" \"s\"\n",
              "[20] \"t\" \"u\" \"v\" \"w\" \"x\" \"y\" \"z\""
            ],
            "text/latex": "\\begin{enumerate*}\n\\item 'a'\n\\item 'b'\n\\item 'c'\n\\item 'd'\n\\item 'e'\n\\item 'f'\n\\item 'g'\n\\item 'h'\n\\item 'i'\n\\item 'j'\n\\item 'k'\n\\item 'l'\n\\item 'm'\n\\item 'n'\n\\item 'o'\n\\item 'p'\n\\item 'q'\n\\item 'r'\n\\item 's'\n\\item 't'\n\\item 'u'\n\\item 'v'\n\\item 'w'\n\\item 'x'\n\\item 'y'\n\\item 'z'\n\\end{enumerate*}\n",
            "text/markdown": "1. 'a'\n2. 'b'\n3. 'c'\n4. 'd'\n5. 'e'\n6. 'f'\n7. 'g'\n8. 'h'\n9. 'i'\n10. 'j'\n11. 'k'\n12. 'l'\n13. 'm'\n14. 'n'\n15. 'o'\n16. 'p'\n17. 'q'\n18. 'r'\n19. 's'\n20. 't'\n21. 'u'\n22. 'v'\n23. 'w'\n24. 'x'\n25. 'y'\n26. 'z'\n\n\n",
            "text/html": [
              "<style>\n",
              ".list-inline {list-style: none; margin:0; padding: 0}\n",
              ".list-inline>li {display: inline-block}\n",
              ".list-inline>li:not(:last-child)::after {content: \"\\00b7\"; padding: 0 .5ex}\n",
              "</style>\n",
              "<ol class=list-inline><li>'a'</li><li>'b'</li><li>'c'</li><li>'d'</li><li>'e'</li><li>'f'</li><li>'g'</li><li>'h'</li><li>'i'</li><li>'j'</li><li>'k'</li><li>'l'</li><li>'m'</li><li>'n'</li><li>'o'</li><li>'p'</li><li>'q'</li><li>'r'</li><li>'s'</li><li>'t'</li><li>'u'</li><li>'v'</li><li>'w'</li><li>'x'</li><li>'y'</li><li>'z'</li></ol>\n"
            ]
          },
          "metadata": {
            "tags": []
          }
        },
        {
          "output_type": "display_data",
          "data": {
            "text/plain": [
              " [1] \"A\" \"B\" \"C\" \"D\" \"E\" \"F\" \"G\" \"H\" \"I\" \"J\" \"K\" \"L\" \"M\" \"N\" \"O\" \"P\" \"Q\" \"R\" \"S\"\n",
              "[20] \"T\" \"U\" \"V\" \"W\" \"X\" \"Y\" \"Z\""
            ],
            "text/latex": "\\begin{enumerate*}\n\\item 'A'\n\\item 'B'\n\\item 'C'\n\\item 'D'\n\\item 'E'\n\\item 'F'\n\\item 'G'\n\\item 'H'\n\\item 'I'\n\\item 'J'\n\\item 'K'\n\\item 'L'\n\\item 'M'\n\\item 'N'\n\\item 'O'\n\\item 'P'\n\\item 'Q'\n\\item 'R'\n\\item 'S'\n\\item 'T'\n\\item 'U'\n\\item 'V'\n\\item 'W'\n\\item 'X'\n\\item 'Y'\n\\item 'Z'\n\\end{enumerate*}\n",
            "text/markdown": "1. 'A'\n2. 'B'\n3. 'C'\n4. 'D'\n5. 'E'\n6. 'F'\n7. 'G'\n8. 'H'\n9. 'I'\n10. 'J'\n11. 'K'\n12. 'L'\n13. 'M'\n14. 'N'\n15. 'O'\n16. 'P'\n17. 'Q'\n18. 'R'\n19. 'S'\n20. 'T'\n21. 'U'\n22. 'V'\n23. 'W'\n24. 'X'\n25. 'Y'\n26. 'Z'\n\n\n",
            "text/html": [
              "<style>\n",
              ".list-inline {list-style: none; margin:0; padding: 0}\n",
              ".list-inline>li {display: inline-block}\n",
              ".list-inline>li:not(:last-child)::after {content: \"\\00b7\"; padding: 0 .5ex}\n",
              "</style>\n",
              "<ol class=list-inline><li>'A'</li><li>'B'</li><li>'C'</li><li>'D'</li><li>'E'</li><li>'F'</li><li>'G'</li><li>'H'</li><li>'I'</li><li>'J'</li><li>'K'</li><li>'L'</li><li>'M'</li><li>'N'</li><li>'O'</li><li>'P'</li><li>'Q'</li><li>'R'</li><li>'S'</li><li>'T'</li><li>'U'</li><li>'V'</li><li>'W'</li><li>'X'</li><li>'Y'</li><li>'Z'</li></ol>\n"
            ]
          },
          "metadata": {
            "tags": []
          }
        }
      ]
    },
    {
      "cell_type": "code",
      "metadata": {
        "colab": {
          "base_uri": "https://localhost:8080/",
          "height": 51
        },
        "id": "HLfw7O-VumMK",
        "outputId": "64b8599e-3ea0-4368-996d-7bbe8f9b2320"
      },
      "source": [
        "month.abb\n",
        "month.name"
      ],
      "execution_count": null,
      "outputs": [
        {
          "output_type": "display_data",
          "data": {
            "text/plain": [
              " [1] \"Jan\" \"Feb\" \"Mar\" \"Apr\" \"May\" \"Jun\" \"Jul\" \"Aug\" \"Sep\" \"Oct\" \"Nov\" \"Dec\""
            ],
            "text/latex": "\\begin{enumerate*}\n\\item 'Jan'\n\\item 'Feb'\n\\item 'Mar'\n\\item 'Apr'\n\\item 'May'\n\\item 'Jun'\n\\item 'Jul'\n\\item 'Aug'\n\\item 'Sep'\n\\item 'Oct'\n\\item 'Nov'\n\\item 'Dec'\n\\end{enumerate*}\n",
            "text/markdown": "1. 'Jan'\n2. 'Feb'\n3. 'Mar'\n4. 'Apr'\n5. 'May'\n6. 'Jun'\n7. 'Jul'\n8. 'Aug'\n9. 'Sep'\n10. 'Oct'\n11. 'Nov'\n12. 'Dec'\n\n\n",
            "text/html": [
              "<style>\n",
              ".list-inline {list-style: none; margin:0; padding: 0}\n",
              ".list-inline>li {display: inline-block}\n",
              ".list-inline>li:not(:last-child)::after {content: \"\\00b7\"; padding: 0 .5ex}\n",
              "</style>\n",
              "<ol class=list-inline><li>'Jan'</li><li>'Feb'</li><li>'Mar'</li><li>'Apr'</li><li>'May'</li><li>'Jun'</li><li>'Jul'</li><li>'Aug'</li><li>'Sep'</li><li>'Oct'</li><li>'Nov'</li><li>'Dec'</li></ol>\n"
            ]
          },
          "metadata": {
            "tags": []
          }
        },
        {
          "output_type": "display_data",
          "data": {
            "text/plain": [
              " [1] \"January\"   \"February\"  \"March\"     \"April\"     \"May\"       \"June\"     \n",
              " [7] \"July\"      \"August\"    \"September\" \"October\"   \"November\"  \"December\" "
            ],
            "text/latex": "\\begin{enumerate*}\n\\item 'January'\n\\item 'February'\n\\item 'March'\n\\item 'April'\n\\item 'May'\n\\item 'June'\n\\item 'July'\n\\item 'August'\n\\item 'September'\n\\item 'October'\n\\item 'November'\n\\item 'December'\n\\end{enumerate*}\n",
            "text/markdown": "1. 'January'\n2. 'February'\n3. 'March'\n4. 'April'\n5. 'May'\n6. 'June'\n7. 'July'\n8. 'August'\n9. 'September'\n10. 'October'\n11. 'November'\n12. 'December'\n\n\n",
            "text/html": [
              "<style>\n",
              ".list-inline {list-style: none; margin:0; padding: 0}\n",
              ".list-inline>li {display: inline-block}\n",
              ".list-inline>li:not(:last-child)::after {content: \"\\00b7\"; padding: 0 .5ex}\n",
              "</style>\n",
              "<ol class=list-inline><li>'January'</li><li>'February'</li><li>'March'</li><li>'April'</li><li>'May'</li><li>'June'</li><li>'July'</li><li>'August'</li><li>'September'</li><li>'October'</li><li>'November'</li><li>'December'</li></ol>\n"
            ]
          },
          "metadata": {
            "tags": []
          }
        }
      ]
    },
    {
      "cell_type": "markdown",
      "metadata": {
        "id": "u9Pu38cKu8SR"
      },
      "source": [
        "**Operadores Lógicos**"
      ]
    },
    {
      "cell_type": "code",
      "metadata": {
        "colab": {
          "base_uri": "https://localhost:8080/",
          "height": 187
        },
        "id": "xFXIu0zyu6QB",
        "outputId": "c81d13a2-bc50-49df-cd33-0d430edf93ae"
      },
      "source": [
        "x <- 10 # atribuindo o valor 10 ao objeto x\n",
        "y <- 20 # atribuindo o valor 20 ao objeto y\n",
        "x\n",
        "y\n",
        "x < y # x é menor que y ?\n",
        "x > y # x é maior que x ?\n",
        "x < x # x é menor que x ?\n",
        "x > x # x é maior que x ?\n",
        "x <= x # x é menor igual que x ?\n",
        "x >= x # x é maior igual que x ?\n",
        "x != y # x é diferente de y ?\n",
        "x == y # x é igual a y ?"
      ],
      "execution_count": null,
      "outputs": [
        {
          "output_type": "display_data",
          "data": {
            "text/plain": [
              "[1] 10"
            ],
            "text/latex": "10",
            "text/markdown": "10",
            "text/html": [
              "10"
            ]
          },
          "metadata": {
            "tags": []
          }
        },
        {
          "output_type": "display_data",
          "data": {
            "text/plain": [
              "[1] 20"
            ],
            "text/latex": "20",
            "text/markdown": "20",
            "text/html": [
              "20"
            ]
          },
          "metadata": {
            "tags": []
          }
        },
        {
          "output_type": "display_data",
          "data": {
            "text/plain": [
              "[1] TRUE"
            ],
            "text/latex": "TRUE",
            "text/markdown": "TRUE",
            "text/html": [
              "TRUE"
            ]
          },
          "metadata": {
            "tags": []
          }
        },
        {
          "output_type": "display_data",
          "data": {
            "text/plain": [
              "[1] FALSE"
            ],
            "text/latex": "FALSE",
            "text/markdown": "FALSE",
            "text/html": [
              "FALSE"
            ]
          },
          "metadata": {
            "tags": []
          }
        },
        {
          "output_type": "display_data",
          "data": {
            "text/plain": [
              "[1] FALSE"
            ],
            "text/latex": "FALSE",
            "text/markdown": "FALSE",
            "text/html": [
              "FALSE"
            ]
          },
          "metadata": {
            "tags": []
          }
        },
        {
          "output_type": "display_data",
          "data": {
            "text/plain": [
              "[1] FALSE"
            ],
            "text/latex": "FALSE",
            "text/markdown": "FALSE",
            "text/html": [
              "FALSE"
            ]
          },
          "metadata": {
            "tags": []
          }
        },
        {
          "output_type": "display_data",
          "data": {
            "text/plain": [
              "[1] TRUE"
            ],
            "text/latex": "TRUE",
            "text/markdown": "TRUE",
            "text/html": [
              "TRUE"
            ]
          },
          "metadata": {
            "tags": []
          }
        },
        {
          "output_type": "display_data",
          "data": {
            "text/plain": [
              "[1] TRUE"
            ],
            "text/latex": "TRUE",
            "text/markdown": "TRUE",
            "text/html": [
              "TRUE"
            ]
          },
          "metadata": {
            "tags": []
          }
        },
        {
          "output_type": "display_data",
          "data": {
            "text/plain": [
              "[1] TRUE"
            ],
            "text/latex": "TRUE",
            "text/markdown": "TRUE",
            "text/html": [
              "TRUE"
            ]
          },
          "metadata": {
            "tags": []
          }
        },
        {
          "output_type": "display_data",
          "data": {
            "text/plain": [
              "[1] FALSE"
            ],
            "text/latex": "FALSE",
            "text/markdown": "FALSE",
            "text/html": [
              "FALSE"
            ]
          },
          "metadata": {
            "tags": []
          }
        }
      ]
    },
    {
      "cell_type": "code",
      "metadata": {
        "colab": {
          "base_uri": "https://localhost:8080/",
          "height": 68
        },
        "id": "PEP0LI31vH5R",
        "outputId": "6df667a9-1c09-463f-98f2-38d6acbccb49"
      },
      "source": [
        "x <- 20 # atribuindo o valor 20 ao objeto x\n",
        "y <- 20 # atribuindo o valor 20 ao objeto y\n",
        "x\n",
        "y\n",
        "x == y # x é igual a y ?"
      ],
      "execution_count": null,
      "outputs": [
        {
          "output_type": "display_data",
          "data": {
            "text/plain": [
              "[1] 20"
            ],
            "text/latex": "20",
            "text/markdown": "20",
            "text/html": [
              "20"
            ]
          },
          "metadata": {
            "tags": []
          }
        },
        {
          "output_type": "display_data",
          "data": {
            "text/plain": [
              "[1] 20"
            ],
            "text/latex": "20",
            "text/markdown": "20",
            "text/html": [
              "20"
            ]
          },
          "metadata": {
            "tags": []
          }
        },
        {
          "output_type": "display_data",
          "data": {
            "text/plain": [
              "[1] TRUE"
            ],
            "text/latex": "TRUE",
            "text/markdown": "TRUE",
            "text/html": [
              "TRUE"
            ]
          },
          "metadata": {
            "tags": []
          }
        }
      ]
    },
    {
      "cell_type": "code",
      "metadata": {
        "colab": {
          "base_uri": "https://localhost:8080/",
          "height": 34
        },
        "id": "I0mUEh00wTGI",
        "outputId": "01d2f85d-8d5a-4111-d4a4-65fc6030de0b"
      },
      "source": [
        "# Leitura de arquivo csv\n",
        "\n",
        "dados <- read.csv(file = '/content/sample_data/california_housing_test.csv')\n",
        "length(dados) # numero de colunas"
      ],
      "execution_count": null,
      "outputs": [
        {
          "output_type": "display_data",
          "data": {
            "text/plain": [
              "[1] 9"
            ],
            "text/latex": "9",
            "text/markdown": "9",
            "text/html": [
              "9"
            ]
          },
          "metadata": {
            "tags": []
          }
        }
      ]
    },
    {
      "cell_type": "code",
      "metadata": {
        "colab": {
          "base_uri": "https://localhost:8080/",
          "height": 569
        },
        "id": "44N3ipBKxfjM",
        "outputId": "acc61ccc-2d22-434b-b2cb-4da933ff5f18"
      },
      "source": [
        "head(dados)\n",
        "tail(dados)"
      ],
      "execution_count": null,
      "outputs": [
        {
          "output_type": "display_data",
          "data": {
            "text/plain": [
              "  longitude latitude housing_median_age total_rooms total_bedrooms population\n",
              "1 -122.05   37.37    27                 3885        661            1537      \n",
              "2 -118.30   34.26    43                 1510        310             809      \n",
              "3 -117.81   33.78    27                 3589        507            1484      \n",
              "4 -118.36   33.82    28                   67         15              49      \n",
              "5 -119.67   36.33    19                 1241        244             850      \n",
              "6 -119.56   36.51    37                 1018        213             663      \n",
              "  households median_income median_house_value\n",
              "1 606        6.6085        344700            \n",
              "2 277        3.5990        176500            \n",
              "3 495        5.7934        270500            \n",
              "4  11        6.1359        330000            \n",
              "5 237        2.9375         81700            \n",
              "6 204        1.6635         67000            "
            ],
            "text/latex": "A data.frame: 6 × 9\n\\begin{tabular}{r|lllllllll}\n  & longitude & latitude & housing\\_median\\_age & total\\_rooms & total\\_bedrooms & population & households & median\\_income & median\\_house\\_value\\\\\n  & <dbl> & <dbl> & <dbl> & <dbl> & <dbl> & <dbl> & <dbl> & <dbl> & <dbl>\\\\\n\\hline\n\t1 & -122.05 & 37.37 & 27 & 3885 & 661 & 1537 & 606 & 6.6085 & 344700\\\\\n\t2 & -118.30 & 34.26 & 43 & 1510 & 310 &  809 & 277 & 3.5990 & 176500\\\\\n\t3 & -117.81 & 33.78 & 27 & 3589 & 507 & 1484 & 495 & 5.7934 & 270500\\\\\n\t4 & -118.36 & 33.82 & 28 &   67 &  15 &   49 &  11 & 6.1359 & 330000\\\\\n\t5 & -119.67 & 36.33 & 19 & 1241 & 244 &  850 & 237 & 2.9375 &  81700\\\\\n\t6 & -119.56 & 36.51 & 37 & 1018 & 213 &  663 & 204 & 1.6635 &  67000\\\\\n\\end{tabular}\n",
            "text/markdown": "\nA data.frame: 6 × 9\n\n| <!--/--> | longitude &lt;dbl&gt; | latitude &lt;dbl&gt; | housing_median_age &lt;dbl&gt; | total_rooms &lt;dbl&gt; | total_bedrooms &lt;dbl&gt; | population &lt;dbl&gt; | households &lt;dbl&gt; | median_income &lt;dbl&gt; | median_house_value &lt;dbl&gt; |\n|---|---|---|---|---|---|---|---|---|---|\n| 1 | -122.05 | 37.37 | 27 | 3885 | 661 | 1537 | 606 | 6.6085 | 344700 |\n| 2 | -118.30 | 34.26 | 43 | 1510 | 310 |  809 | 277 | 3.5990 | 176500 |\n| 3 | -117.81 | 33.78 | 27 | 3589 | 507 | 1484 | 495 | 5.7934 | 270500 |\n| 4 | -118.36 | 33.82 | 28 |   67 |  15 |   49 |  11 | 6.1359 | 330000 |\n| 5 | -119.67 | 36.33 | 19 | 1241 | 244 |  850 | 237 | 2.9375 |  81700 |\n| 6 | -119.56 | 36.51 | 37 | 1018 | 213 |  663 | 204 | 1.6635 |  67000 |\n\n",
            "text/html": [
              "<table class=\"dataframe\">\n",
              "<caption>A data.frame: 6 × 9</caption>\n",
              "<thead>\n",
              "\t<tr><th></th><th scope=col>longitude</th><th scope=col>latitude</th><th scope=col>housing_median_age</th><th scope=col>total_rooms</th><th scope=col>total_bedrooms</th><th scope=col>population</th><th scope=col>households</th><th scope=col>median_income</th><th scope=col>median_house_value</th></tr>\n",
              "\t<tr><th></th><th scope=col>&lt;dbl&gt;</th><th scope=col>&lt;dbl&gt;</th><th scope=col>&lt;dbl&gt;</th><th scope=col>&lt;dbl&gt;</th><th scope=col>&lt;dbl&gt;</th><th scope=col>&lt;dbl&gt;</th><th scope=col>&lt;dbl&gt;</th><th scope=col>&lt;dbl&gt;</th><th scope=col>&lt;dbl&gt;</th></tr>\n",
              "</thead>\n",
              "<tbody>\n",
              "\t<tr><th scope=row>1</th><td>-122.05</td><td>37.37</td><td>27</td><td>3885</td><td>661</td><td>1537</td><td>606</td><td>6.6085</td><td>344700</td></tr>\n",
              "\t<tr><th scope=row>2</th><td>-118.30</td><td>34.26</td><td>43</td><td>1510</td><td>310</td><td> 809</td><td>277</td><td>3.5990</td><td>176500</td></tr>\n",
              "\t<tr><th scope=row>3</th><td>-117.81</td><td>33.78</td><td>27</td><td>3589</td><td>507</td><td>1484</td><td>495</td><td>5.7934</td><td>270500</td></tr>\n",
              "\t<tr><th scope=row>4</th><td>-118.36</td><td>33.82</td><td>28</td><td>  67</td><td> 15</td><td>  49</td><td> 11</td><td>6.1359</td><td>330000</td></tr>\n",
              "\t<tr><th scope=row>5</th><td>-119.67</td><td>36.33</td><td>19</td><td>1241</td><td>244</td><td> 850</td><td>237</td><td>2.9375</td><td> 81700</td></tr>\n",
              "\t<tr><th scope=row>6</th><td>-119.56</td><td>36.51</td><td>37</td><td>1018</td><td>213</td><td> 663</td><td>204</td><td>1.6635</td><td> 67000</td></tr>\n",
              "</tbody>\n",
              "</table>\n"
            ]
          },
          "metadata": {
            "tags": []
          }
        },
        {
          "output_type": "display_data",
          "data": {
            "text/plain": [
              "     longitude latitude housing_median_age total_rooms total_bedrooms\n",
              "2995 -117.93   33.86    35                  931         181          \n",
              "2996 -119.86   34.42    23                 1450         642          \n",
              "2997 -118.14   34.06    27                 5257        1082          \n",
              "2998 -119.70   36.30    10                  956         201          \n",
              "2999 -117.12   34.10    40                   96          14          \n",
              "3000 -119.63   34.42    42                 1765         263          \n",
              "     population households median_income median_house_value\n",
              "2995  516        174       5.5867        182500            \n",
              "2996 1258        607       1.1790        225000            \n",
              "2997 3496       1036       3.3906        237200            \n",
              "2998  693        220       2.2895         62000            \n",
              "2999   46         14       3.2708        162500            \n",
              "3000  753        260       8.5608        500001            "
            ],
            "text/latex": "A data.frame: 6 × 9\n\\begin{tabular}{r|lllllllll}\n  & longitude & latitude & housing\\_median\\_age & total\\_rooms & total\\_bedrooms & population & households & median\\_income & median\\_house\\_value\\\\\n  & <dbl> & <dbl> & <dbl> & <dbl> & <dbl> & <dbl> & <dbl> & <dbl> & <dbl>\\\\\n\\hline\n\t2995 & -117.93 & 33.86 & 35 &  931 &  181 &  516 &  174 & 5.5867 & 182500\\\\\n\t2996 & -119.86 & 34.42 & 23 & 1450 &  642 & 1258 &  607 & 1.1790 & 225000\\\\\n\t2997 & -118.14 & 34.06 & 27 & 5257 & 1082 & 3496 & 1036 & 3.3906 & 237200\\\\\n\t2998 & -119.70 & 36.30 & 10 &  956 &  201 &  693 &  220 & 2.2895 &  62000\\\\\n\t2999 & -117.12 & 34.10 & 40 &   96 &   14 &   46 &   14 & 3.2708 & 162500\\\\\n\t3000 & -119.63 & 34.42 & 42 & 1765 &  263 &  753 &  260 & 8.5608 & 500001\\\\\n\\end{tabular}\n",
            "text/markdown": "\nA data.frame: 6 × 9\n\n| <!--/--> | longitude &lt;dbl&gt; | latitude &lt;dbl&gt; | housing_median_age &lt;dbl&gt; | total_rooms &lt;dbl&gt; | total_bedrooms &lt;dbl&gt; | population &lt;dbl&gt; | households &lt;dbl&gt; | median_income &lt;dbl&gt; | median_house_value &lt;dbl&gt; |\n|---|---|---|---|---|---|---|---|---|---|\n| 2995 | -117.93 | 33.86 | 35 |  931 |  181 |  516 |  174 | 5.5867 | 182500 |\n| 2996 | -119.86 | 34.42 | 23 | 1450 |  642 | 1258 |  607 | 1.1790 | 225000 |\n| 2997 | -118.14 | 34.06 | 27 | 5257 | 1082 | 3496 | 1036 | 3.3906 | 237200 |\n| 2998 | -119.70 | 36.30 | 10 |  956 |  201 |  693 |  220 | 2.2895 |  62000 |\n| 2999 | -117.12 | 34.10 | 40 |   96 |   14 |   46 |   14 | 3.2708 | 162500 |\n| 3000 | -119.63 | 34.42 | 42 | 1765 |  263 |  753 |  260 | 8.5608 | 500001 |\n\n",
            "text/html": [
              "<table class=\"dataframe\">\n",
              "<caption>A data.frame: 6 × 9</caption>\n",
              "<thead>\n",
              "\t<tr><th></th><th scope=col>longitude</th><th scope=col>latitude</th><th scope=col>housing_median_age</th><th scope=col>total_rooms</th><th scope=col>total_bedrooms</th><th scope=col>population</th><th scope=col>households</th><th scope=col>median_income</th><th scope=col>median_house_value</th></tr>\n",
              "\t<tr><th></th><th scope=col>&lt;dbl&gt;</th><th scope=col>&lt;dbl&gt;</th><th scope=col>&lt;dbl&gt;</th><th scope=col>&lt;dbl&gt;</th><th scope=col>&lt;dbl&gt;</th><th scope=col>&lt;dbl&gt;</th><th scope=col>&lt;dbl&gt;</th><th scope=col>&lt;dbl&gt;</th><th scope=col>&lt;dbl&gt;</th></tr>\n",
              "</thead>\n",
              "<tbody>\n",
              "\t<tr><th scope=row>2995</th><td>-117.93</td><td>33.86</td><td>35</td><td> 931</td><td> 181</td><td> 516</td><td> 174</td><td>5.5867</td><td>182500</td></tr>\n",
              "\t<tr><th scope=row>2996</th><td>-119.86</td><td>34.42</td><td>23</td><td>1450</td><td> 642</td><td>1258</td><td> 607</td><td>1.1790</td><td>225000</td></tr>\n",
              "\t<tr><th scope=row>2997</th><td>-118.14</td><td>34.06</td><td>27</td><td>5257</td><td>1082</td><td>3496</td><td>1036</td><td>3.3906</td><td>237200</td></tr>\n",
              "\t<tr><th scope=row>2998</th><td>-119.70</td><td>36.30</td><td>10</td><td> 956</td><td> 201</td><td> 693</td><td> 220</td><td>2.2895</td><td> 62000</td></tr>\n",
              "\t<tr><th scope=row>2999</th><td>-117.12</td><td>34.10</td><td>40</td><td>  96</td><td>  14</td><td>  46</td><td>  14</td><td>3.2708</td><td>162500</td></tr>\n",
              "\t<tr><th scope=row>3000</th><td>-119.63</td><td>34.42</td><td>42</td><td>1765</td><td> 263</td><td> 753</td><td> 260</td><td>8.5608</td><td>500001</td></tr>\n",
              "</tbody>\n",
              "</table>\n"
            ]
          },
          "metadata": {
            "tags": []
          }
        }
      ]
    },
    {
      "cell_type": "code",
      "metadata": {
        "colab": {
          "base_uri": "https://localhost:8080/",
          "height": 95
        },
        "id": "NsRA6SE3zHlg",
        "outputId": "76aa76ba-9ed8-4164-d15f-afcaef07e6a0"
      },
      "source": [
        "#Leitura de arquivo xls\n",
        "\n",
        "dados <- read_excel(\"/content/clientes.xlsx\", sheet = 1)"
      ],
      "execution_count": null,
      "outputs": [
        {
          "output_type": "error",
          "ename": "ERROR",
          "evalue": "ignored",
          "traceback": [
            "Error in read_excel(\"/content/clientes.xlsx\", sheet = 1): could not find function \"read_excel\"\nTraceback:\n"
          ]
        }
      ]
    },
    {
      "cell_type": "markdown",
      "metadata": {
        "id": "bh8cb8tdwPvL"
      },
      "source": [
        "**Instalar e importar pacotes**"
      ]
    },
    {
      "cell_type": "code",
      "metadata": {
        "colab": {
          "base_uri": "https://localhost:8080/"
        },
        "id": "jXvdXBp7wO_y",
        "outputId": "dc1cde41-6243-40b8-ed78-510bfc17a327"
      },
      "source": [
        "install.packages(\"readxl\") #instalar"
      ],
      "execution_count": null,
      "outputs": [
        {
          "output_type": "stream",
          "text": [
            "Installing package into ‘/usr/local/lib/R/site-library’\n",
            "(as ‘lib’ is unspecified)\n",
            "\n"
          ],
          "name": "stderr"
        }
      ]
    },
    {
      "cell_type": "code",
      "metadata": {
        "id": "0oAZvyQBw2Fx"
      },
      "source": [
        "library(readxl) #importar"
      ],
      "execution_count": null,
      "outputs": []
    },
    {
      "cell_type": "code",
      "metadata": {
        "id": "iqexRNv73GZv"
      },
      "source": [
        "#Buscar ajuda para um pacote\n",
        "help(readxl)"
      ],
      "execution_count": null,
      "outputs": []
    },
    {
      "cell_type": "code",
      "metadata": {
        "colab": {
          "base_uri": "https://localhost:8080/"
        },
        "id": "xwUw3zrLxLaN",
        "outputId": "b0b6cc68-77ca-4801-b752-15f5c976f221"
      },
      "source": [
        "#Leitura de arquivo xls\n",
        "\n",
        "clientes <- read_excel(\"/content/clientes.xlsx\", sheet = 1)\n"
      ],
      "execution_count": null,
      "outputs": [
        {
          "output_type": "stream",
          "text": [
            "New names:\n",
            "* `` -> ...4\n",
            "* `` -> ...5\n",
            "* `` -> ...6\n",
            "\n"
          ],
          "name": "stderr"
        }
      ]
    },
    {
      "cell_type": "code",
      "metadata": {
        "colab": {
          "base_uri": "https://localhost:8080/",
          "height": 332
        },
        "id": "hT6_4XBhzdm4",
        "outputId": "588aec60-0b26-413d-cd1d-4257b29d1116"
      },
      "source": [
        "head(clientes,3)\n",
        "tail(clientes,2)"
      ],
      "execution_count": null,
      "outputs": [
        {
          "output_type": "display_data",
          "data": {
            "text/plain": [
              "  Idade Profissao                 Grau_instrucao          ...4 ...5      \n",
              "1 39    Servidor Público          Ensino Médio Completo   13   Solteiro  \n",
              "2 50    Autônomo                  Superior Incompleto     13   Casado    \n",
              "3 38    Funcionário Setor Privado Ensino Médio Incompleto  9   Divorciado\n",
              "  ...6   Genero    Estado qtd_filhos salario\n",
              "1 Branco Masculino RO     2          4754   \n",
              "2 Branco Masculino AC     1          3923   \n",
              "3 Branco Masculino AM     0          1100   "
            ],
            "text/latex": "A tibble: 3 × 10\n\\begin{tabular}{llllllllll}\n Idade & Profissao & Grau\\_instrucao & ...4 & ...5 & ...6 & Genero & Estado & qtd\\_filhos & salario\\\\\n <dbl> & <chr> & <chr> & <dbl> & <chr> & <chr> & <chr> & <chr> & <dbl> & <dbl>\\\\\n\\hline\n\t 39 & Servidor Público          & Ensino Médio Completo   & 13 & Solteiro   & Branco & Masculino & RO & 2 & 4754\\\\\n\t 50 & Autônomo                  & Superior Incompleto     & 13 & Casado     & Branco & Masculino & AC & 1 & 3923\\\\\n\t 38 & Funcionário Setor Privado & Ensino Médio Incompleto &  9 & Divorciado & Branco & Masculino & AM & 0 & 1100\\\\\n\\end{tabular}\n",
            "text/markdown": "\nA tibble: 3 × 10\n\n| Idade &lt;dbl&gt; | Profissao &lt;chr&gt; | Grau_instrucao &lt;chr&gt; | ...4 &lt;dbl&gt; | ...5 &lt;chr&gt; | ...6 &lt;chr&gt; | Genero &lt;chr&gt; | Estado &lt;chr&gt; | qtd_filhos &lt;dbl&gt; | salario &lt;dbl&gt; |\n|---|---|---|---|---|---|---|---|---|---|\n| 39 | Servidor Público          | Ensino Médio Completo   | 13 | Solteiro   | Branco | Masculino | RO | 2 | 4754 |\n| 50 | Autônomo                  | Superior Incompleto     | 13 | Casado     | Branco | Masculino | AC | 1 | 3923 |\n| 38 | Funcionário Setor Privado | Ensino Médio Incompleto |  9 | Divorciado | Branco | Masculino | AM | 0 | 1100 |\n\n",
            "text/html": [
              "<table class=\"dataframe\">\n",
              "<caption>A tibble: 3 × 10</caption>\n",
              "<thead>\n",
              "\t<tr><th scope=col>Idade</th><th scope=col>Profissao</th><th scope=col>Grau_instrucao</th><th scope=col>...4</th><th scope=col>...5</th><th scope=col>...6</th><th scope=col>Genero</th><th scope=col>Estado</th><th scope=col>qtd_filhos</th><th scope=col>salario</th></tr>\n",
              "\t<tr><th scope=col>&lt;dbl&gt;</th><th scope=col>&lt;chr&gt;</th><th scope=col>&lt;chr&gt;</th><th scope=col>&lt;dbl&gt;</th><th scope=col>&lt;chr&gt;</th><th scope=col>&lt;chr&gt;</th><th scope=col>&lt;chr&gt;</th><th scope=col>&lt;chr&gt;</th><th scope=col>&lt;dbl&gt;</th><th scope=col>&lt;dbl&gt;</th></tr>\n",
              "</thead>\n",
              "<tbody>\n",
              "\t<tr><td>39</td><td>Servidor Público         </td><td>Ensino Médio Completo  </td><td>13</td><td>Solteiro  </td><td>Branco</td><td>Masculino</td><td>RO</td><td>2</td><td>4754</td></tr>\n",
              "\t<tr><td>50</td><td>Autônomo                 </td><td>Superior Incompleto    </td><td>13</td><td>Casado    </td><td>Branco</td><td>Masculino</td><td>AC</td><td>1</td><td>3923</td></tr>\n",
              "\t<tr><td>38</td><td>Funcionário Setor Privado</td><td>Ensino Médio Incompleto</td><td> 9</td><td>Divorciado</td><td>Branco</td><td>Masculino</td><td>AM</td><td>0</td><td>1100</td></tr>\n",
              "</tbody>\n",
              "</table>\n"
            ]
          },
          "metadata": {
            "tags": []
          }
        },
        {
          "output_type": "display_data",
          "data": {
            "text/plain": [
              "  Idade Profissao                 Grau_instrucao          ...4 ...5      \n",
              "1 38    Funcionário Setor Privado Ensino Médio Incompleto  7   Casado    \n",
              "2 43    Autônomo                  Mestrado                14   Divorciado\n",
              "  ...6   Genero    Estado qtd_filhos salario\n",
              "1 Branco Masculino RJ     1          1100   \n",
              "2 Branco Feminino  SP     1          6120   "
            ],
            "text/latex": "A tibble: 2 × 10\n\\begin{tabular}{llllllllll}\n Idade & Profissao & Grau\\_instrucao & ...4 & ...5 & ...6 & Genero & Estado & qtd\\_filhos & salario\\\\\n <dbl> & <chr> & <chr> & <dbl> & <chr> & <chr> & <chr> & <chr> & <dbl> & <dbl>\\\\\n\\hline\n\t 38 & Funcionário Setor Privado & Ensino Médio Incompleto &  7 & Casado     & Branco & Masculino & RJ & 1 & 1100\\\\\n\t 43 & Autônomo                  & Mestrado                & 14 & Divorciado & Branco & Feminino  & SP & 1 & 6120\\\\\n\\end{tabular}\n",
            "text/markdown": "\nA tibble: 2 × 10\n\n| Idade &lt;dbl&gt; | Profissao &lt;chr&gt; | Grau_instrucao &lt;chr&gt; | ...4 &lt;dbl&gt; | ...5 &lt;chr&gt; | ...6 &lt;chr&gt; | Genero &lt;chr&gt; | Estado &lt;chr&gt; | qtd_filhos &lt;dbl&gt; | salario &lt;dbl&gt; |\n|---|---|---|---|---|---|---|---|---|---|\n| 38 | Funcionário Setor Privado | Ensino Médio Incompleto |  7 | Casado     | Branco | Masculino | RJ | 1 | 1100 |\n| 43 | Autônomo                  | Mestrado                | 14 | Divorciado | Branco | Feminino  | SP | 1 | 6120 |\n\n",
            "text/html": [
              "<table class=\"dataframe\">\n",
              "<caption>A tibble: 2 × 10</caption>\n",
              "<thead>\n",
              "\t<tr><th scope=col>Idade</th><th scope=col>Profissao</th><th scope=col>Grau_instrucao</th><th scope=col>...4</th><th scope=col>...5</th><th scope=col>...6</th><th scope=col>Genero</th><th scope=col>Estado</th><th scope=col>qtd_filhos</th><th scope=col>salario</th></tr>\n",
              "\t<tr><th scope=col>&lt;dbl&gt;</th><th scope=col>&lt;chr&gt;</th><th scope=col>&lt;chr&gt;</th><th scope=col>&lt;dbl&gt;</th><th scope=col>&lt;chr&gt;</th><th scope=col>&lt;chr&gt;</th><th scope=col>&lt;chr&gt;</th><th scope=col>&lt;chr&gt;</th><th scope=col>&lt;dbl&gt;</th><th scope=col>&lt;dbl&gt;</th></tr>\n",
              "</thead>\n",
              "<tbody>\n",
              "\t<tr><td>38</td><td>Funcionário Setor Privado</td><td>Ensino Médio Incompleto</td><td> 7</td><td>Casado    </td><td>Branco</td><td>Masculino</td><td>RJ</td><td>1</td><td>1100</td></tr>\n",
              "\t<tr><td>43</td><td>Autônomo                 </td><td>Mestrado               </td><td>14</td><td>Divorciado</td><td>Branco</td><td>Feminino </td><td>SP</td><td>1</td><td>6120</td></tr>\n",
              "</tbody>\n",
              "</table>\n"
            ]
          },
          "metadata": {
            "tags": []
          }
        }
      ]
    },
    {
      "cell_type": "code",
      "metadata": {
        "colab": {
          "base_uri": "https://localhost:8080/",
          "height": 34
        },
        "id": "sqaYNotg08D1",
        "outputId": "53dcd530-1f95-4086-9929-f0ebad96f7d7"
      },
      "source": [
        "clientes$Idade"
      ],
      "execution_count": null,
      "outputs": [
        {
          "output_type": "display_data",
          "data": {
            "text/plain": [
              " [1] 39 50 38 53 28 37 49 52 31 42 37 30 23 32 40 34 25 32 38 43"
            ],
            "text/latex": "\\begin{enumerate*}\n\\item 39\n\\item 50\n\\item 38\n\\item 53\n\\item 28\n\\item 37\n\\item 49\n\\item 52\n\\item 31\n\\item 42\n\\item 37\n\\item 30\n\\item 23\n\\item 32\n\\item 40\n\\item 34\n\\item 25\n\\item 32\n\\item 38\n\\item 43\n\\end{enumerate*}\n",
            "text/markdown": "1. 39\n2. 50\n3. 38\n4. 53\n5. 28\n6. 37\n7. 49\n8. 52\n9. 31\n10. 42\n11. 37\n12. 30\n13. 23\n14. 32\n15. 40\n16. 34\n17. 25\n18. 32\n19. 38\n20. 43\n\n\n",
            "text/html": [
              "<style>\n",
              ".list-inline {list-style: none; margin:0; padding: 0}\n",
              ".list-inline>li {display: inline-block}\n",
              ".list-inline>li:not(:last-child)::after {content: \"\\00b7\"; padding: 0 .5ex}\n",
              "</style>\n",
              "<ol class=list-inline><li>39</li><li>50</li><li>38</li><li>53</li><li>28</li><li>37</li><li>49</li><li>52</li><li>31</li><li>42</li><li>37</li><li>30</li><li>23</li><li>32</li><li>40</li><li>34</li><li>25</li><li>32</li><li>38</li><li>43</li></ol>\n"
            ]
          },
          "metadata": {
            "tags": []
          }
        }
      ]
    },
    {
      "cell_type": "code",
      "metadata": {
        "colab": {
          "base_uri": "https://localhost:8080/",
          "height": 437
        },
        "id": "dXHoZ2A02Jl7",
        "outputId": "58f1cb85-c917-4793-e2f0-faef24d0ebb2"
      },
      "source": [
        "plot(clientes$Idade)"
      ],
      "execution_count": null,
      "outputs": [
        {
          "output_type": "display_data",
          "data": {
            "image/png": "[encoded data removed]",
            "text/plain": [
              "plot without title"
            ]
          },
          "metadata": {
            "tags": [],
            "image/png": {
              "width": 420,
              "height": 420
            }
          }
        }
      ]
    },
    {
      "cell_type": "code",
      "metadata": {
        "colab": {
          "base_uri": "https://localhost:8080/",
          "height": 425
        },
        "id": "v6hoHZBY1pXF",
        "outputId": "25b8c26a-5e40-4d59-b24b-806ca20fb903"
      },
      "source": [
        "# medidas de posição\n",
        "summary(clientes)"
      ],
      "execution_count": null,
      "outputs": [
        {
          "output_type": "display_data",
          "data": {
            "text/plain": [
              "     Idade        Profissao         Grau_instrucao          ...4     \n",
              " Min.   :23.00   Length:20          Length:20          Min.   : 4.0  \n",
              " 1st Qu.:31.75   Class :character   Class :character   1st Qu.: 9.0  \n",
              " Median :37.50   Mode  :character   Mode  :character   Median :11.5  \n",
              " Mean   :37.65                                         Mean   :10.6  \n",
              " 3rd Qu.:42.25                                         3rd Qu.:13.0  \n",
              " Max.   :53.00                                         Max.   :14.0  \n",
              "                                                                     \n",
              "     ...5               ...6              Genero             Estado         \n",
              " Length:20          Length:20          Length:20          Length:20         \n",
              " Class :character   Class :character   Class :character   Class :character  \n",
              " Mode  :character   Mode  :character   Mode  :character   Mode  :character  \n",
              "                                                                            \n",
              "                                                                            \n",
              "                                                                            \n",
              "                                                                            \n",
              "   qtd_filhos       salario     \n",
              " Min.   :0.000   Min.   : 1100  \n",
              " 1st Qu.:1.000   1st Qu.: 1100  \n",
              " Median :2.000   Median : 3319  \n",
              " Mean   :2.579   Mean   : 3640  \n",
              " 3rd Qu.:4.500   3rd Qu.: 4894  \n",
              " Max.   :5.000   Max.   :10787  \n",
              " NA's   :1                      "
            ]
          },
          "metadata": {
            "tags": []
          }
        }
      ]
    },
    {
      "cell_type": "code",
      "metadata": {
        "colab": {
          "base_uri": "https://localhost:8080/",
          "height": 437
        },
        "id": "SvdKJULN08vE",
        "outputId": "1a4d47be-ab69-4485-98a6-ca50b2d7c658"
      },
      "source": [
        "# gerar gráfico gráfico linear\n",
        "plot(clientes$Idade, clientes$qtd_filhos)"
      ],
      "execution_count": null,
      "outputs": [
        {
          "output_type": "display_data",
          "data": {
            "image/png": "[encoded data removed]",
            "text/plain": [
              "plot without title"
            ]
          },
          "metadata": {
            "tags": [],
            "image/png": {
              "width": 420,
              "height": 420
            }
          }
        }
      ]
    },
    {
      "cell_type": "code",
      "metadata": {
        "colab": {
          "base_uri": "https://localhost:8080/",
          "height": 437
        },
        "id": "spKMIwVNw8Nc",
        "outputId": "10925168-e655-41aa-d254-5c39d0387011"
      },
      "source": [
        "plot(Idade ~ salario, data = clientes)"
      ],
      "execution_count": null,
      "outputs": [
        {
          "output_type": "display_data",
          "data": {
            "image/png": "[encoded data removed]",
            "text/plain": [
              "plot without title"
            ]
          },
          "metadata": {
            "tags": [],
            "image/png": {
              "width": 420,
              "height": 420
            }
          }
        }
      ]
    },
    {
      "cell_type": "code",
      "metadata": {
        "id": "zNenLhtGwIrB"
      },
      "source": [
        ""
      ],
      "execution_count": null,
      "outputs": []
    }
  ]
}